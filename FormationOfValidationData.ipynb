{
 "cells": [
  {
   "cell_type": "markdown",
   "metadata": {},
   "source": [
    "The source dataset consists of a set of audio and xml files describing them. It is necessary to generate data to verify proper operation of the future system for the detection of critical situations."
   ]
  },
  {
   "cell_type": "code",
   "execution_count": 1,
   "metadata": {
    "collapsed": true
   },
   "outputs": [],
   "source": [
    "import numpy as np\n",
    "import pandas as pd\n",
    "from xml.dom import minidom"
   ]
  },
  {
   "cell_type": "code",
   "execution_count": 2,
   "metadata": {
    "collapsed": false
   },
   "outputs": [],
   "source": [
    "x = minidom.parse(\"./XML/testing/00001.xml\")\n",
    "events = x.getElementsByTagName('events')[0]\n",
    "itemlist = events.getElementsByTagName('item')"
   ]
  },
  {
   "cell_type": "code",
   "execution_count": 3,
   "metadata": {
    "collapsed": false
   },
   "outputs": [],
   "source": [
    "time_ranges = []\n",
    "for item in itemlist:\n",
    "    startsecond = float(item.getElementsByTagName(\"STARTSECOND\")[0].firstChild.nodeValue)\n",
    "    endsecond = float(item.getElementsByTagName(\"ENDSECOND\")[0].firstChild.nodeValue)\n",
    "    classid = int(item.getElementsByTagName(\"CLASS_ID\")[0].firstChild.nodeValue)\n",
    "    time_ranges.append((startsecond, endsecond, classid))"
   ]
  },
  {
   "cell_type": "code",
   "execution_count": 60,
   "metadata": {
    "collapsed": false
   },
   "outputs": [],
   "source": [
    "file_length = int(time_ranges[len(time_ranges) - 1][1]) + 1  #seconds\n",
    "freq_rate = 32000\n",
    "frameSize = 1024\n",
    "hopSize = int(frameSize / 2)\n",
    "\n",
    "frames_raw = []\n",
    "for i, start in enumerate(range(0, file_length * freq_rate, hopSize)):\n",
    "    end = start + frameSize\n",
    "    start_ms = start / freq_rate\n",
    "    end_ms = end / freq_rate\n",
    "    event = None\n",
    "    for time_range in time_ranges:\n",
    "        if time_range[0] < start_ms < time_range[1]:\n",
    "            event = time_range[2]\n",
    "            break\n",
    "        elif time_range[0] < end_ms < time_range[1]:\n",
    "            event = time_range[2]\n",
    "            break\n",
    "    frames_raw.append((i, event))"
   ]
  },
  {
   "cell_type": "code",
   "execution_count": 75,
   "metadata": {
    "collapsed": false
   },
   "outputs": [],
   "source": [
    "#1 - neutral\n",
    "#2 - glass\n",
    "#3 - gunshot\n",
    "#4 - scream\n",
    "\n",
    "big_window_size = 32\n",
    "\n",
    "frames_big_df = pd.DataFrame(columns=['frame_num', 'neutral', 'glass', 'gunshot', 'scream'])\n",
    "for frame_num, start_frame in enumerate(range(0, len(frames_raw), int(big_window_size / 2))):\n",
    "    frame_big = frames_raw[start_frame:start_frame + big_window_size]\n",
    "    count = np.zeros(4, dtype=np.int)\n",
    "    for f in frame_big:\n",
    "        if f[1] is None:\n",
    "            count[0] += 1\n",
    "        elif f[1] == 2:\n",
    "            count[1] += 1\n",
    "        elif f[1] == 3:\n",
    "            count[2] += 1\n",
    "        elif f[1] == 4:\n",
    "            count[3] += 1\n",
    "    max_classid = np.argmax(count)\n",
    "    count_val = count[max_classid]\n",
    "    max_classid += 1 #neutral is '1', not '0'\n",
    "    if (count_val > (int(big_window_size / 2))):\n",
    "        frames_big_df.loc[len(frames_big_df)] = [frame_num, (1 == max_classid), (2 == max_classid),\n",
    "                                                (3 == max_classid), (4 == max_classid)]"
   ]
  },
  {
   "cell_type": "code",
   "execution_count": 79,
   "metadata": {
    "collapsed": false
   },
   "outputs": [
    {
     "data": {
      "text/html": [
       "<div>\n",
       "<table border=\"1\" class=\"dataframe\">\n",
       "  <thead>\n",
       "    <tr style=\"text-align: right;\">\n",
       "      <th></th>\n",
       "      <th>frame_num</th>\n",
       "      <th>neutral</th>\n",
       "      <th>glass</th>\n",
       "      <th>gunshot</th>\n",
       "      <th>scream</th>\n",
       "    </tr>\n",
       "  </thead>\n",
       "  <tbody>\n",
       "    <tr>\n",
       "      <th>20</th>\n",
       "      <td>20</td>\n",
       "      <td>False</td>\n",
       "      <td>True</td>\n",
       "      <td>False</td>\n",
       "      <td>False</td>\n",
       "    </tr>\n",
       "    <tr>\n",
       "      <th>21</th>\n",
       "      <td>21</td>\n",
       "      <td>False</td>\n",
       "      <td>True</td>\n",
       "      <td>False</td>\n",
       "      <td>False</td>\n",
       "    </tr>\n",
       "    <tr>\n",
       "      <th>22</th>\n",
       "      <td>22</td>\n",
       "      <td>True</td>\n",
       "      <td>False</td>\n",
       "      <td>False</td>\n",
       "      <td>False</td>\n",
       "    </tr>\n",
       "    <tr>\n",
       "      <th>23</th>\n",
       "      <td>23</td>\n",
       "      <td>True</td>\n",
       "      <td>False</td>\n",
       "      <td>False</td>\n",
       "      <td>False</td>\n",
       "    </tr>\n",
       "    <tr>\n",
       "      <th>24</th>\n",
       "      <td>24</td>\n",
       "      <td>True</td>\n",
       "      <td>False</td>\n",
       "      <td>False</td>\n",
       "      <td>False</td>\n",
       "    </tr>\n",
       "    <tr>\n",
       "      <th>25</th>\n",
       "      <td>25</td>\n",
       "      <td>True</td>\n",
       "      <td>False</td>\n",
       "      <td>False</td>\n",
       "      <td>False</td>\n",
       "    </tr>\n",
       "    <tr>\n",
       "      <th>26</th>\n",
       "      <td>26</td>\n",
       "      <td>True</td>\n",
       "      <td>False</td>\n",
       "      <td>False</td>\n",
       "      <td>False</td>\n",
       "    </tr>\n",
       "    <tr>\n",
       "      <th>27</th>\n",
       "      <td>27</td>\n",
       "      <td>True</td>\n",
       "      <td>False</td>\n",
       "      <td>False</td>\n",
       "      <td>False</td>\n",
       "    </tr>\n",
       "    <tr>\n",
       "      <th>28</th>\n",
       "      <td>28</td>\n",
       "      <td>True</td>\n",
       "      <td>False</td>\n",
       "      <td>False</td>\n",
       "      <td>False</td>\n",
       "    </tr>\n",
       "    <tr>\n",
       "      <th>29</th>\n",
       "      <td>29</td>\n",
       "      <td>True</td>\n",
       "      <td>False</td>\n",
       "      <td>False</td>\n",
       "      <td>False</td>\n",
       "    </tr>\n",
       "  </tbody>\n",
       "</table>\n",
       "</div>"
      ],
      "text/plain": [
       "    frame_num neutral  glass gunshot scream\n",
       "20         20   False   True   False  False\n",
       "21         21   False   True   False  False\n",
       "22         22    True  False   False  False\n",
       "23         23    True  False   False  False\n",
       "24         24    True  False   False  False\n",
       "25         25    True  False   False  False\n",
       "26         26    True  False   False  False\n",
       "27         27    True  False   False  False\n",
       "28         28    True  False   False  False\n",
       "29         29    True  False   False  False"
      ]
     },
     "execution_count": 79,
     "metadata": {},
     "output_type": "execute_result"
    }
   ],
   "source": [
    "frames_big_df [20:30]"
   ]
  },
  {
   "cell_type": "code",
   "execution_count": 81,
   "metadata": {
    "collapsed": true
   },
   "outputs": [],
   "source": [
    "frames_big_df.to_csv('./csv/validation.csv', sep='\\t')"
   ]
  }
 ],
 "metadata": {
  "kernelspec": {
   "display_name": "Python 3",
   "language": "python",
   "name": "python3"
  },
  "language_info": {
   "codemirror_mode": {
    "name": "ipython",
    "version": 3
   },
   "file_extension": ".py",
   "mimetype": "text/x-python",
   "name": "python",
   "nbconvert_exporter": "python",
   "pygments_lexer": "ipython3",
   "version": "3.5.1"
  }
 },
 "nbformat": 4,
 "nbformat_minor": 0
}
