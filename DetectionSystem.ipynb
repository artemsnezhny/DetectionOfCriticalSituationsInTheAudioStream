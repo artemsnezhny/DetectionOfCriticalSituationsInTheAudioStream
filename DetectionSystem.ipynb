{
 "cells": [
  {
   "cell_type": "markdown",
   "metadata": {},
   "source": [
    "### Load training data"
   ]
  },
  {
   "cell_type": "code",
   "execution_count": 7,
   "metadata": {
    "collapsed": true
   },
   "outputs": [],
   "source": [
    "import numpy as np\n",
    "import pandas as pd"
   ]
  },
  {
   "cell_type": "code",
   "execution_count": 3,
   "metadata": {
    "collapsed": true
   },
   "outputs": [],
   "source": [
    "trainData4 = np.loadtxt('./ml/trainset/trainset_4.txt')\n",
    "trainData2 = np.loadtxt('./ml/trainset/trainset_2.txt')"
   ]
  },
  {
   "cell_type": "markdown",
   "metadata": {},
   "source": [
    "Add to training data with SNR 10dB neutral events with SNR 20dB"
   ]
  },
  {
   "cell_type": "code",
   "execution_count": 48,
   "metadata": {
    "collapsed": false
   },
   "outputs": [],
   "source": [
    "index = [i for i in range(0, len(trainData2))]\n",
    "columns = [i for i in range(1,177)]\n",
    "columns[175] = 'ev'\n",
    "trainData2_df = pd.DataFrame(data=trainData2, index=index, columns = columns)\n",
    "\n",
    "index = [i for i in range(0, len(trainData4))]\n",
    "trainData4_df = pd.DataFrame(data=trainData4, index=index, columns = columns)"
   ]
  },
  {
   "cell_type": "code",
   "execution_count": 56,
   "metadata": {
    "collapsed": false
   },
   "outputs": [],
   "source": [
    "trainData = trainData2_df.append(trainData4_df[trainData4_df.ev == 1.0])"
   ]
  },
  {
   "cell_type": "code",
   "execution_count": null,
   "metadata": {
    "collapsed": false
   },
   "outputs": [],
   "source": []
  },
  {
   "cell_type": "markdown",
   "metadata": {},
   "source": [
    "### Machine learning"
   ]
  },
  {
   "cell_type": "code",
   "execution_count": 135,
   "metadata": {
    "collapsed": false
   },
   "outputs": [],
   "source": [
    "from sklearn.ensemble import RandomForestClassifier\n",
    "from sklearn import svm\n",
    "\n",
    "ml = RandomForestClassifier(n_estimators=500)\n",
    "X = trainData.as_matrix(columns = trainData.columns[0:175])\n",
    "y = trainData.ev.values\n",
    "\n",
    "ml = ml.fit(X,y)"
   ]
  },
  {
   "cell_type": "markdown",
   "metadata": {},
   "source": [
    "### Detection"
   ]
  },
  {
   "cell_type": "code",
   "execution_count": 149,
   "metadata": {
    "collapsed": false
   },
   "outputs": [],
   "source": [
    "import scipy.stats.stats as st\n",
    "\n",
    "startMFCC = 0\n",
    "\n",
    "def minMFCC(mfccCoeffs):\n",
    "    mfccMins = []\n",
    "    for i in range(startMFCC, len(mfccCoeffs[0])):\n",
    "        mfccMins.append(min(mfccCoeffs[:,i]))\n",
    "    return mfccMins\n",
    "\n",
    "def maxMFCC(mfccCoeffs):\n",
    "    mfccMaxs = []\n",
    "    for i in range(startMFCC, len(mfccCoeffs[0])):\n",
    "        mfccMaxs.append(max(mfccCoeffs[:,i]))\n",
    "    return mfccMaxs\n",
    "\n",
    "def medianMFCC(mfccCoeffs):\n",
    "    mfccMedians = []\n",
    "    for i in range(startMFCC, len(mfccCoeffs[0])):\n",
    "        mfccMedians.append(np.median(mfccCoeffs[:,i]))\n",
    "    return mfccMedians\n",
    "\n",
    "def meanMFCC(mfccCoeffs):\n",
    "    mfccMeans = []\n",
    "    for i in range(startMFCC, len(mfccCoeffs[0])):\n",
    "        mfccMeans.append(np.mean(mfccCoeffs[:,i]))\n",
    "    return mfccMeans\n",
    "\n",
    "def varianceMFCC(mfccCoeffs):\n",
    "    mfccVars = []\n",
    "    for i in range(startMFCC, len(mfccCoeffs[0])):\n",
    "        mfccVars.append(np.var(mfccCoeffs[:,i]))\n",
    "    return mfccVars\n",
    "\n",
    "def skewnessMFCC(mfccCoeffs):\n",
    "    mfccSkews = []\n",
    "    for i in range(startMFCC, len(mfccCoeffs[0])):\n",
    "        mfccSkews.append(st.skew(mfccCoeffs[:,i]))\n",
    "    return mfccSkews\n",
    "\n",
    "def kurtosisMFCC(mfccCoeffs):\n",
    "    mfccKurts = []\n",
    "    for i in range(startMFCC, len(mfccCoeffs[0])):\n",
    "        mfccKurts.append(st.kurtosis(mfccCoeffs[:,i]))\n",
    "    return mfccKurts"
   ]
  },
  {
   "cell_type": "code",
   "execution_count": 139,
   "metadata": {
    "collapsed": false
   },
   "outputs": [],
   "source": [
    "test = np.loadtxt('./MFCC/testing/00001_6.txt')"
   ]
  },
  {
   "cell_type": "code",
   "execution_count": 145,
   "metadata": {
    "collapsed": false
   },
   "outputs": [],
   "source": [
    "frag = test[574:614]"
   ]
  },
  {
   "cell_type": "code",
   "execution_count": 151,
   "metadata": {
    "collapsed": false
   },
   "outputs": [],
   "source": [
    "mins = minMFCC(np.asarray(frag))\n",
    "maxs = maxMFCC(np.asarray(frag))\n",
    "meds = medianMFCC(np.asarray(frag))\n",
    "means = meanMFCC(np.asarray(frag))\n",
    "varis = varianceMFCC(np.asarray(frag))\n",
    "skews = skewnessMFCC(np.asarray(frag))\n",
    "kurts = kurtosisMFCC(np.asarray(frag))\n",
    "\n",
    "tstLineMFCC = []\n",
    "tstLineMFCC.extend(mins)\n",
    "tstLineMFCC.extend(maxs)\n",
    "tstLineMFCC.extend(meds)\n",
    "tstLineMFCC.extend(means)\n",
    "tstLineMFCC.extend(varis)\n",
    "tstLineMFCC.extend(skews)\n",
    "tstLineMFCC.extend(kurts)"
   ]
  },
  {
   "cell_type": "code",
   "execution_count": 152,
   "metadata": {
    "collapsed": false
   },
   "outputs": [
    {
     "name": "stdout",
     "output_type": "stream",
     "text": [
      "[ 3.]\n"
     ]
    }
   ],
   "source": [
    "r_cl = ml.predict(np.array(tstLineMFCC).reshape(1,-1))\n",
    "print(r_cl)"
   ]
  }
 ],
 "metadata": {
  "kernelspec": {
   "display_name": "Python 3",
   "language": "python",
   "name": "python3"
  },
  "language_info": {
   "codemirror_mode": {
    "name": "ipython",
    "version": 3
   },
   "file_extension": ".py",
   "mimetype": "text/x-python",
   "name": "python",
   "nbconvert_exporter": "python",
   "pygments_lexer": "ipython3",
   "version": "3.5.1"
  }
 },
 "nbformat": 4,
 "nbformat_minor": 0
}
