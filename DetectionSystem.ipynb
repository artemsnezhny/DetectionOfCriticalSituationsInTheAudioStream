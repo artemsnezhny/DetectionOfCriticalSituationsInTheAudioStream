{
 "cells": [
  {
   "cell_type": "markdown",
   "metadata": {},
   "source": [
    "### Load training data"
   ]
  },
  {
   "cell_type": "code",
   "execution_count": 1,
   "metadata": {
    "collapsed": true
   },
   "outputs": [],
   "source": [
    "import numpy as np\n",
    "import pandas as pd\n",
    "from itertools import chain"
   ]
  },
  {
   "cell_type": "code",
   "execution_count": 2,
   "metadata": {
    "collapsed": true
   },
   "outputs": [],
   "source": [
    "trainData4 = np.loadtxt('./ml/trainset/trainset_4.txt')\n",
    "trainData2 = np.loadtxt('./ml/trainset/trainset_2.txt')"
   ]
  },
  {
   "cell_type": "markdown",
   "metadata": {},
   "source": [
    "Add to training data with SNR 10dB neutral events with SNR 20dB"
   ]
  },
  {
   "cell_type": "code",
   "execution_count": 3,
   "metadata": {
    "collapsed": false
   },
   "outputs": [],
   "source": [
    "index = [i for i in range(0, len(trainData2))]\n",
    "columns = [i for i in range(1,177)]\n",
    "columns[175] = 'ev'\n",
    "trainData2_df = pd.DataFrame(data=trainData2, index=index, columns = columns)\n",
    "\n",
    "index = [i for i in range(0, len(trainData4))]\n",
    "trainData4_df = pd.DataFrame(data=trainData4, index=index, columns = columns)\n",
    "\n",
    "trainData = trainData2_df.append(trainData4_df[trainData4_df.ev == 1.0])"
   ]
  },
  {
   "cell_type": "markdown",
   "metadata": {},
   "source": [
    "### Machine learning"
   ]
  },
  {
   "cell_type": "code",
   "execution_count": 4,
   "metadata": {
    "collapsed": false
   },
   "outputs": [],
   "source": [
    "from sklearn.ensemble import RandomForestClassifier\n",
    "from sklearn import svm\n",
    "\n",
    "\n",
    "X = trainData.as_matrix(columns = trainData.columns[0:175])\n",
    "y = trainData.ev.values"
   ]
  },
  {
   "cell_type": "markdown",
   "metadata": {},
   "source": [
    "### Detection"
   ]
  },
  {
   "cell_type": "code",
   "execution_count": 5,
   "metadata": {
    "collapsed": false
   },
   "outputs": [],
   "source": [
    "import scipy.stats.stats as st\n",
    "\n",
    "startMFCC = 0\n",
    "\n",
    "def minMFCC(mfccCoeffs):\n",
    "    mfccMins = []\n",
    "    for i in range(startMFCC, len(mfccCoeffs[0])):\n",
    "        mfccMins.append(min(mfccCoeffs[:,i]))\n",
    "    return mfccMins\n",
    "\n",
    "def maxMFCC(mfccCoeffs):\n",
    "    mfccMaxs = []\n",
    "    for i in range(startMFCC, len(mfccCoeffs[0])):\n",
    "        mfccMaxs.append(max(mfccCoeffs[:,i]))\n",
    "    return mfccMaxs\n",
    "\n",
    "def medianMFCC(mfccCoeffs):\n",
    "    mfccMedians = []\n",
    "    for i in range(startMFCC, len(mfccCoeffs[0])):\n",
    "        mfccMedians.append(np.median(mfccCoeffs[:,i]))\n",
    "    return mfccMedians\n",
    "\n",
    "def meanMFCC(mfccCoeffs):\n",
    "    mfccMeans = []\n",
    "    for i in range(startMFCC, len(mfccCoeffs[0])):\n",
    "        mfccMeans.append(np.mean(mfccCoeffs[:,i]))\n",
    "    return mfccMeans\n",
    "\n",
    "def varianceMFCC(mfccCoeffs):\n",
    "    mfccVars = []\n",
    "    for i in range(startMFCC, len(mfccCoeffs[0])):\n",
    "        mfccVars.append(np.var(mfccCoeffs[:,i]))\n",
    "    return mfccVars\n",
    "\n",
    "def skewnessMFCC(mfccCoeffs):\n",
    "    mfccSkews = []\n",
    "    for i in range(startMFCC, len(mfccCoeffs[0])):\n",
    "        mfccSkews.append(st.skew(mfccCoeffs[:,i]))\n",
    "    return mfccSkews\n",
    "\n",
    "def kurtosisMFCC(mfccCoeffs):\n",
    "    mfccKurts = []\n",
    "    for i in range(startMFCC, len(mfccCoeffs[0])):\n",
    "        mfccKurts.append(st.kurtosis(mfccCoeffs[:,i]))\n",
    "    return mfccKurts"
   ]
  },
  {
   "cell_type": "code",
   "execution_count": 6,
   "metadata": {
    "collapsed": false
   },
   "outputs": [
    {
     "name": "stdout",
     "output_type": "stream",
     "text": [
      "    audio_num  frame_num neutral glass gunshot scream\n",
      "20          1         20   False  True   False  False\n",
      "21          1         21   False  True   False  False\n",
      "3808\n"
     ]
    }
   ],
   "source": [
    "validation = pd.read_csv('./ml/validation.csv', sep='\\t', index_col=0)\n",
    "validation = validation[validation.neutral == False]\n",
    "print(validation[:2])\n",
    "print(len(validation))"
   ]
  },
  {
   "cell_type": "markdown",
   "metadata": {},
   "source": [
    "Test results without neutral events, only hazardous events."
   ]
  },
  {
   "cell_type": "code",
   "execution_count": 8,
   "metadata": {
    "collapsed": false,
    "scrolled": true
   },
   "outputs": [
    {
     "name": "stdout",
     "output_type": "stream",
     "text": [
      "predict with 50 estimators\n",
      "   SNR  concurrency\n",
      "0   30         0.77\n",
      "1   25         0.77\n",
      "2   20         0.78\n",
      "3   15         0.76\n",
      "4   10         0.72\n",
      "5    5         0.41\n",
      "predict with 100 estimators\n",
      "   SNR  concurrency\n",
      "0   30         0.78\n",
      "1   25         0.78\n",
      "2   20         0.77\n",
      "3   15         0.76\n",
      "4   10         0.72\n",
      "5    5         0.41\n",
      "predict with 150 estimators\n",
      "   SNR  concurrency\n",
      "0   30         0.78\n",
      "1   25         0.78\n",
      "2   20         0.78\n",
      "3   15         0.77\n",
      "4   10         0.74\n",
      "5    5         0.42\n",
      "predict with 200 estimators\n",
      "   SNR  concurrency\n",
      "0   30         0.78\n",
      "1   25         0.79\n",
      "2   20         0.78\n",
      "3   15         0.77\n",
      "4   10         0.73\n",
      "5    5         0.42\n",
      "predict with 250 estimators\n",
      "   SNR  concurrency\n",
      "0   30         0.77\n",
      "1   25         0.77\n",
      "2   20         0.77\n",
      "3   15         0.77\n",
      "4   10         0.73\n",
      "5    5         0.42\n",
      "predict with 300 estimators\n",
      "   SNR  concurrency\n",
      "0   30         0.77\n",
      "1   25         0.77\n",
      "2   20         0.77\n",
      "3   15         0.76\n",
      "4   10         0.71\n",
      "5    5         0.40\n",
      "predict with 350 estimators\n",
      "   SNR  concurrency\n",
      "0   30         0.78\n",
      "1   25         0.78\n",
      "2   20         0.78\n",
      "3   15         0.77\n",
      "4   10         0.72\n",
      "5    5         0.42\n",
      "predict with 400 estimators\n",
      "   SNR  concurrency\n",
      "0   30         0.78\n",
      "1   25         0.78\n",
      "2   20         0.78\n",
      "3   15         0.77\n",
      "4   10         0.72\n",
      "5    5         0.42\n",
      "predict with 450 estimators\n",
      "   SNR  concurrency\n",
      "0   30         0.78\n",
      "1   25         0.78\n",
      "2   20         0.78\n",
      "3   15         0.77\n",
      "4   10         0.72\n",
      "5    5         0.41\n",
      "predict with 500 estimators\n",
      "   SNR  concurrency\n",
      "0   30         0.78\n",
      "1   25         0.78\n",
      "2   20         0.78\n",
      "3   15         0.77\n",
      "4   10         0.73\n",
      "5    5         0.42\n"
     ]
    }
   ],
   "source": [
    "for est_count in range(50, 501, 50):\n",
    "    ml = RandomForestClassifier(n_estimators=est_count)\n",
    "    ml = ml.fit(X,y)\n",
    "\n",
    "    result_df = pd.DataFrame(columns=['SNR', 'concurrency'])\n",
    "\n",
    "    for snr_num in range(6 , 0, -1):\n",
    "        frames_big_df = pd.DataFrame(columns=['audio_num' ,'frame_num', 'neutral', 'glass', 'gunshot', 'scream'])\n",
    "\n",
    "        for audio_num in range(1, 30):\n",
    "            audio_mfcc = np.loadtxt('./MFCC/testing/{0}_{1}.txt'.format(str(\"%05d\" % (audio_num)), \n",
    "                                                                        str(snr_num)))\n",
    "\n",
    "            val_len = len(validation[validation.audio_num == audio_num])\n",
    "\n",
    "            big_window_size = 32\n",
    "            for frame_num, start_frame in enumerate(range(0, (val_len*16), int(big_window_size / 2))):\n",
    "                frame_big = audio_mfcc[start_frame:start_frame + big_window_size]\n",
    "                predict_obj = list(chain(minMFCC(np.asarray(frame_big)),\n",
    "                                   maxMFCC(np.asarray(frame_big)),\n",
    "                                   medianMFCC(np.asarray(frame_big)),\n",
    "                                   meanMFCC(np.asarray(frame_big)),\n",
    "                                   varianceMFCC(np.asarray(frame_big)),\n",
    "                                   skewnessMFCC(np.asarray(frame_big)),\n",
    "                                   kurtosisMFCC(np.asarray(frame_big))))\n",
    "                r_cl = int(ml.predict(np.array(predict_obj).reshape(1,-1)))\n",
    "\n",
    "                frames_big_df.loc[len(frames_big_df)] = [audio_num, frame_num, (1 == r_cl), (2 == r_cl), \n",
    "                                                        3 == r_cl, 4 == r_cl]\n",
    "\n",
    "        frames_big_df = frames_big_df[frames_big_df.neutral == False]\n",
    "        diff = frames_big_df[~frames_big_df.isin(validation).all(1)]\n",
    "        res = ((len(validation) - len(diff)) / len(validation))\n",
    "\n",
    "        result_df.loc[len(result_df)] = [snr_num * 5, round(res, 2)]\n",
    "\n",
    "    print('predict with ' + str(est_count) + ' estimators')\n",
    "    print(result_df)"
   ]
  },
  {
   "cell_type": "code",
   "execution_count": 28,
   "metadata": {
    "collapsed": false
   },
   "outputs": [
    {
     "data": {
      "text/plain": [
       "22"
      ]
     },
     "execution_count": 28,
     "metadata": {},
     "output_type": "execute_result"
    }
   ],
   "source": []
  },
  {
   "cell_type": "code",
   "execution_count": 18,
   "metadata": {
    "collapsed": false
   },
   "outputs": [
    {
     "data": {
      "text/html": [
       "<div>\n",
       "<table border=\"1\" class=\"dataframe\">\n",
       "  <thead>\n",
       "    <tr style=\"text-align: right;\">\n",
       "      <th></th>\n",
       "      <th>audio_num</th>\n",
       "      <th>frame_num</th>\n",
       "      <th>neutral</th>\n",
       "      <th>glass</th>\n",
       "      <th>gunshot</th>\n",
       "      <th>scream</th>\n",
       "    </tr>\n",
       "  </thead>\n",
       "  <tbody>\n",
       "    <tr>\n",
       "      <th>20</th>\n",
       "      <td>1</td>\n",
       "      <td>20</td>\n",
       "      <td>False</td>\n",
       "      <td>True</td>\n",
       "      <td>False</td>\n",
       "      <td>False</td>\n",
       "    </tr>\n",
       "    <tr>\n",
       "      <th>21</th>\n",
       "      <td>1</td>\n",
       "      <td>21</td>\n",
       "      <td>False</td>\n",
       "      <td>True</td>\n",
       "      <td>False</td>\n",
       "      <td>False</td>\n",
       "    </tr>\n",
       "  </tbody>\n",
       "</table>\n",
       "</div>"
      ],
      "text/plain": [
       "    audio_num  frame_num neutral glass gunshot scream\n",
       "20          1         20   False  True   False  False\n",
       "21          1         21   False  True   False  False"
      ]
     },
     "execution_count": 18,
     "metadata": {},
     "output_type": "execute_result"
    }
   ],
   "source": [
    "validation[:2] #true answer"
   ]
  },
  {
   "cell_type": "code",
   "execution_count": 19,
   "metadata": {
    "collapsed": false
   },
   "outputs": [
    {
     "data": {
      "text/html": [
       "<div>\n",
       "<table border=\"1\" class=\"dataframe\">\n",
       "  <thead>\n",
       "    <tr style=\"text-align: right;\">\n",
       "      <th></th>\n",
       "      <th>audio_num</th>\n",
       "      <th>frame_num</th>\n",
       "      <th>neutral</th>\n",
       "      <th>glass</th>\n",
       "      <th>gunshot</th>\n",
       "      <th>scream</th>\n",
       "    </tr>\n",
       "  </thead>\n",
       "  <tbody>\n",
       "    <tr>\n",
       "      <th>0</th>\n",
       "      <td>29</td>\n",
       "      <td>0</td>\n",
       "      <td>False</td>\n",
       "      <td>False</td>\n",
       "      <td>True</td>\n",
       "      <td>False</td>\n",
       "    </tr>\n",
       "    <tr>\n",
       "      <th>1</th>\n",
       "      <td>29</td>\n",
       "      <td>1</td>\n",
       "      <td>False</td>\n",
       "      <td>False</td>\n",
       "      <td>True</td>\n",
       "      <td>False</td>\n",
       "    </tr>\n",
       "  </tbody>\n",
       "</table>\n",
       "</div>"
      ],
      "text/plain": [
       "   audio_num  frame_num neutral  glass gunshot scream\n",
       "0         29          0   False  False    True  False\n",
       "1         29          1   False  False    True  False"
      ]
     },
     "execution_count": 19,
     "metadata": {},
     "output_type": "execute_result"
    }
   ],
   "source": [
    "frames_big_df[:2] #prediction"
   ]
  },
  {
   "cell_type": "markdown",
   "metadata": {},
   "source": [
    "Test results with neutral events"
   ]
  },
  {
   "cell_type": "code",
   "execution_count": 8,
   "metadata": {
    "collapsed": false
   },
   "outputs": [
    {
     "data": {
      "text/html": [
       "<div>\n",
       "<table border=\"1\" class=\"dataframe\">\n",
       "  <thead>\n",
       "    <tr style=\"text-align: right;\">\n",
       "      <th></th>\n",
       "      <th>SNR</th>\n",
       "      <th>concurrency</th>\n",
       "    </tr>\n",
       "  </thead>\n",
       "  <tbody>\n",
       "    <tr>\n",
       "      <th>0</th>\n",
       "      <td>30</td>\n",
       "      <td>0.92</td>\n",
       "    </tr>\n",
       "    <tr>\n",
       "      <th>1</th>\n",
       "      <td>25</td>\n",
       "      <td>0.92</td>\n",
       "    </tr>\n",
       "    <tr>\n",
       "      <th>2</th>\n",
       "      <td>20</td>\n",
       "      <td>0.92</td>\n",
       "    </tr>\n",
       "    <tr>\n",
       "      <th>3</th>\n",
       "      <td>15</td>\n",
       "      <td>0.91</td>\n",
       "    </tr>\n",
       "    <tr>\n",
       "      <th>4</th>\n",
       "      <td>10</td>\n",
       "      <td>0.87</td>\n",
       "    </tr>\n",
       "    <tr>\n",
       "      <th>5</th>\n",
       "      <td>5</td>\n",
       "      <td>0.55</td>\n",
       "    </tr>\n",
       "  </tbody>\n",
       "</table>\n",
       "</div>"
      ],
      "text/plain": [
       "   SNR  concurrency\n",
       "0   30         0.92\n",
       "1   25         0.92\n",
       "2   20         0.92\n",
       "3   15         0.91\n",
       "4   10         0.87\n",
       "5    5         0.55"
      ]
     },
     "execution_count": 8,
     "metadata": {},
     "output_type": "execute_result"
    }
   ],
   "source": [
    "result_df #400 tree"
   ]
  },
  {
   "cell_type": "code",
   "execution_count": 11,
   "metadata": {
    "collapsed": false
   },
   "outputs": [
    {
     "data": {
      "text/html": [
       "<div>\n",
       "<table border=\"1\" class=\"dataframe\">\n",
       "  <thead>\n",
       "    <tr style=\"text-align: right;\">\n",
       "      <th></th>\n",
       "      <th>SNR</th>\n",
       "      <th>concurrency</th>\n",
       "    </tr>\n",
       "  </thead>\n",
       "  <tbody>\n",
       "    <tr>\n",
       "      <th>0</th>\n",
       "      <td>30</td>\n",
       "      <td>0.93</td>\n",
       "    </tr>\n",
       "    <tr>\n",
       "      <th>1</th>\n",
       "      <td>25</td>\n",
       "      <td>0.93</td>\n",
       "    </tr>\n",
       "    <tr>\n",
       "      <th>2</th>\n",
       "      <td>20</td>\n",
       "      <td>0.92</td>\n",
       "    </tr>\n",
       "    <tr>\n",
       "      <th>3</th>\n",
       "      <td>15</td>\n",
       "      <td>0.91</td>\n",
       "    </tr>\n",
       "    <tr>\n",
       "      <th>4</th>\n",
       "      <td>10</td>\n",
       "      <td>0.87</td>\n",
       "    </tr>\n",
       "    <tr>\n",
       "      <th>5</th>\n",
       "      <td>5</td>\n",
       "      <td>0.54</td>\n",
       "    </tr>\n",
       "  </tbody>\n",
       "</table>\n",
       "</div>"
      ],
      "text/plain": [
       "   SNR  concurrency\n",
       "0   30         0.93\n",
       "1   25         0.93\n",
       "2   20         0.92\n",
       "3   15         0.91\n",
       "4   10         0.87\n",
       "5    5         0.54"
      ]
     },
     "execution_count": 11,
     "metadata": {},
     "output_type": "execute_result"
    }
   ],
   "source": [
    "result_df #300 tree"
   ]
  },
  {
   "cell_type": "code",
   "execution_count": 14,
   "metadata": {
    "collapsed": false
   },
   "outputs": [
    {
     "data": {
      "text/html": [
       "<div>\n",
       "<table border=\"1\" class=\"dataframe\">\n",
       "  <thead>\n",
       "    <tr style=\"text-align: right;\">\n",
       "      <th></th>\n",
       "      <th>SNR</th>\n",
       "      <th>concurrency</th>\n",
       "    </tr>\n",
       "  </thead>\n",
       "  <tbody>\n",
       "    <tr>\n",
       "      <th>0</th>\n",
       "      <td>30</td>\n",
       "      <td>0.93</td>\n",
       "    </tr>\n",
       "    <tr>\n",
       "      <th>1</th>\n",
       "      <td>25</td>\n",
       "      <td>0.93</td>\n",
       "    </tr>\n",
       "    <tr>\n",
       "      <th>2</th>\n",
       "      <td>20</td>\n",
       "      <td>0.93</td>\n",
       "    </tr>\n",
       "    <tr>\n",
       "      <th>3</th>\n",
       "      <td>15</td>\n",
       "      <td>0.91</td>\n",
       "    </tr>\n",
       "    <tr>\n",
       "      <th>4</th>\n",
       "      <td>10</td>\n",
       "      <td>0.87</td>\n",
       "    </tr>\n",
       "    <tr>\n",
       "      <th>5</th>\n",
       "      <td>5</td>\n",
       "      <td>0.55</td>\n",
       "    </tr>\n",
       "  </tbody>\n",
       "</table>\n",
       "</div>"
      ],
      "text/plain": [
       "   SNR  concurrency\n",
       "0   30         0.93\n",
       "1   25         0.93\n",
       "2   20         0.93\n",
       "3   15         0.91\n",
       "4   10         0.87\n",
       "5    5         0.55"
      ]
     },
     "execution_count": 14,
     "metadata": {},
     "output_type": "execute_result"
    }
   ],
   "source": [
    "result_df #200 tree"
   ]
  },
  {
   "cell_type": "code",
   "execution_count": 7,
   "metadata": {
    "collapsed": false
   },
   "outputs": [
    {
     "data": {
      "text/html": [
       "<div>\n",
       "<table border=\"1\" class=\"dataframe\">\n",
       "  <thead>\n",
       "    <tr style=\"text-align: right;\">\n",
       "      <th></th>\n",
       "      <th>SNR</th>\n",
       "      <th>concurrency</th>\n",
       "    </tr>\n",
       "  </thead>\n",
       "  <tbody>\n",
       "    <tr>\n",
       "      <th>0</th>\n",
       "      <td>30</td>\n",
       "      <td>0.92</td>\n",
       "    </tr>\n",
       "    <tr>\n",
       "      <th>1</th>\n",
       "      <td>25</td>\n",
       "      <td>0.92</td>\n",
       "    </tr>\n",
       "    <tr>\n",
       "      <th>2</th>\n",
       "      <td>20</td>\n",
       "      <td>0.91</td>\n",
       "    </tr>\n",
       "    <tr>\n",
       "      <th>3</th>\n",
       "      <td>15</td>\n",
       "      <td>0.90</td>\n",
       "    </tr>\n",
       "    <tr>\n",
       "      <th>4</th>\n",
       "      <td>10</td>\n",
       "      <td>0.86</td>\n",
       "    </tr>\n",
       "    <tr>\n",
       "      <th>5</th>\n",
       "      <td>5</td>\n",
       "      <td>0.55</td>\n",
       "    </tr>\n",
       "  </tbody>\n",
       "</table>\n",
       "</div>"
      ],
      "text/plain": [
       "   SNR  concurrency\n",
       "0   30         0.92\n",
       "1   25         0.92\n",
       "2   20         0.91\n",
       "3   15         0.90\n",
       "4   10         0.86\n",
       "5    5         0.55"
      ]
     },
     "execution_count": 7,
     "metadata": {},
     "output_type": "execute_result"
    }
   ],
   "source": [
    "result_df #100 tree"
   ]
  }
 ],
 "metadata": {
  "kernelspec": {
   "display_name": "Python 3",
   "language": "python",
   "name": "python3"
  },
  "language_info": {
   "codemirror_mode": {
    "name": "ipython",
    "version": 3
   },
   "file_extension": ".py",
   "mimetype": "text/x-python",
   "name": "python",
   "nbconvert_exporter": "python",
   "pygments_lexer": "ipython3",
   "version": "3.5.1"
  }
 },
 "nbformat": 4,
 "nbformat_minor": 0
}
