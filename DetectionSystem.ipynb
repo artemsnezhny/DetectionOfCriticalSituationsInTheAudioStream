{
 "cells": [
  {
   "cell_type": "markdown",
   "metadata": {},
   "source": [
    "### Load training data"
   ]
  },
  {
   "cell_type": "code",
   "execution_count": 1,
   "metadata": {
    "collapsed": true
   },
   "outputs": [],
   "source": [
    "import numpy as np\n",
    "import pandas as pd"
   ]
  },
  {
   "cell_type": "code",
   "execution_count": 2,
   "metadata": {
    "collapsed": true
   },
   "outputs": [],
   "source": [
    "trainData4 = np.loadtxt('./ml/trainset/trainset_4.txt')\n",
    "trainData2 = np.loadtxt('./ml/trainset/trainset_2.txt')"
   ]
  },
  {
   "cell_type": "markdown",
   "metadata": {},
   "source": [
    "Add to training data with SNR 10dB neutral events with SNR 20dB"
   ]
  },
  {
   "cell_type": "code",
   "execution_count": 3,
   "metadata": {
    "collapsed": false
   },
   "outputs": [],
   "source": [
    "index = [i for i in range(0, len(trainData2))]\n",
    "columns = [i for i in range(1,177)]\n",
    "columns[175] = 'ev'\n",
    "trainData2_df = pd.DataFrame(data=trainData2, index=index, columns = columns)\n",
    "\n",
    "index = [i for i in range(0, len(trainData4))]\n",
    "trainData4_df = pd.DataFrame(data=trainData4, index=index, columns = columns)\n",
    "\n",
    "trainData = trainData2_df.append(trainData4_df[trainData4_df.ev == 1.0])"
   ]
  },
  {
   "cell_type": "markdown",
   "metadata": {},
   "source": [
    "### Machine learning"
   ]
  },
  {
   "cell_type": "code",
   "execution_count": 4,
   "metadata": {
    "collapsed": false
   },
   "outputs": [],
   "source": [
    "from sklearn.ensemble import RandomForestClassifier\n",
    "from sklearn import svm\n",
    "\n",
    "ml = RandomForestClassifier(n_estimators=500)\n",
    "X = trainData.as_matrix(columns = trainData.columns[0:175])\n",
    "y = trainData.ev.values\n",
    "\n",
    "ml = ml.fit(X,y)"
   ]
  },
  {
   "cell_type": "markdown",
   "metadata": {},
   "source": [
    "### Detection"
   ]
  },
  {
   "cell_type": "code",
   "execution_count": 5,
   "metadata": {
    "collapsed": false
   },
   "outputs": [],
   "source": [
    "import scipy.stats.stats as st\n",
    "\n",
    "startMFCC = 0\n",
    "\n",
    "def minMFCC(mfccCoeffs):\n",
    "    mfccMins = []\n",
    "    for i in range(startMFCC, len(mfccCoeffs[0])):\n",
    "        mfccMins.append(min(mfccCoeffs[:,i]))\n",
    "    return mfccMins\n",
    "\n",
    "def maxMFCC(mfccCoeffs):\n",
    "    mfccMaxs = []\n",
    "    for i in range(startMFCC, len(mfccCoeffs[0])):\n",
    "        mfccMaxs.append(max(mfccCoeffs[:,i]))\n",
    "    return mfccMaxs\n",
    "\n",
    "def medianMFCC(mfccCoeffs):\n",
    "    mfccMedians = []\n",
    "    for i in range(startMFCC, len(mfccCoeffs[0])):\n",
    "        mfccMedians.append(np.median(mfccCoeffs[:,i]))\n",
    "    return mfccMedians\n",
    "\n",
    "def meanMFCC(mfccCoeffs):\n",
    "    mfccMeans = []\n",
    "    for i in range(startMFCC, len(mfccCoeffs[0])):\n",
    "        mfccMeans.append(np.mean(mfccCoeffs[:,i]))\n",
    "    return mfccMeans\n",
    "\n",
    "def varianceMFCC(mfccCoeffs):\n",
    "    mfccVars = []\n",
    "    for i in range(startMFCC, len(mfccCoeffs[0])):\n",
    "        mfccVars.append(np.var(mfccCoeffs[:,i]))\n",
    "    return mfccVars\n",
    "\n",
    "def skewnessMFCC(mfccCoeffs):\n",
    "    mfccSkews = []\n",
    "    for i in range(startMFCC, len(mfccCoeffs[0])):\n",
    "        mfccSkews.append(st.skew(mfccCoeffs[:,i]))\n",
    "    return mfccSkews\n",
    "\n",
    "def kurtosisMFCC(mfccCoeffs):\n",
    "    mfccKurts = []\n",
    "    for i in range(startMFCC, len(mfccCoeffs[0])):\n",
    "        mfccKurts.append(st.kurtosis(mfccCoeffs[:,i]))\n",
    "    return mfccKurts"
   ]
  },
  {
   "cell_type": "code",
   "execution_count": null,
   "metadata": {
    "collapsed": false
   },
   "outputs": [],
   "source": [
    "validation = pd.read_csv('./ml/validation.csv', sep='\\t', index_col=0)\n",
    "\n",
    "result_df = pd.DataFrame(columns=['SNR', 'concurrency'])\n",
    "\n",
    "for snr_num in range(6 , 0, -1):\n",
    "    frames_big_df = pd.DataFrame(columns=['audio_num' ,'frame_num', 'neutral', 'glass', 'gunshot', 'scream'])\n",
    "\n",
    "    for audio_num in range(1, 30):\n",
    "        audio_mfcc = np.loadtxt('./MFCC/testing/{0}_{1}.txt'.format(str(\"%05d\" % (audio_num)), \n",
    "                                                                    str(snr_num)))\n",
    "\n",
    "        val_len = len(validation[validation.audio_num == audio_num])\n",
    "\n",
    "        big_window_size = 32\n",
    "        for frame_num, start_frame in enumerate(range(0, (val_len*16), int(big_window_size / 2))):\n",
    "            frame_big = audio_mfcc[start_frame:start_frame + big_window_size]\n",
    "            predict_obj = []\n",
    "            predict_obj.extend(minMFCC(np.asarray(frame_big)))\n",
    "            predict_obj.extend(maxMFCC(np.asarray(frame_big)))\n",
    "            predict_obj.extend(medianMFCC(np.asarray(frame_big)))\n",
    "            predict_obj.extend(meanMFCC(np.asarray(frame_big)))\n",
    "            predict_obj.extend(varianceMFCC(np.asarray(frame_big)))\n",
    "            predict_obj.extend(skewnessMFCC(np.asarray(frame_big)))\n",
    "            predict_obj.extend(kurtosisMFCC(np.asarray(frame_big)))\n",
    "\n",
    "            r_cl = int(ml.predict(np.array(predict_obj).reshape(1,-1)))\n",
    "\n",
    "            frames_big_df.loc[len(frames_big_df)] = [audio_num, frame_num, (1 == r_cl), (2 == r_cl), \n",
    "                                                    3 == r_cl, 4 == r_cl]\n",
    "\n",
    "    diff = frames_big_df[~frames_big_df.isin(validation).all(1)]\n",
    "    res = ((len(validation) - len(diff)) / len(validation))\n",
    "\n",
    "    result_df.loc[len(result_df)] = [snr_num * 5, round(res, 2)]\n",
    "    print(result_df)"
   ]
  },
  {
   "cell_type": "code",
   "execution_count": null,
   "metadata": {
    "collapsed": false
   },
   "outputs": [],
   "source": []
  },
  {
   "cell_type": "code",
   "execution_count": 7,
   "metadata": {
    "collapsed": false
   },
   "outputs": [
    {
     "data": {
      "text/html": [
       "<div>\n",
       "<table border=\"1\" class=\"dataframe\">\n",
       "  <thead>\n",
       "    <tr style=\"text-align: right;\">\n",
       "      <th></th>\n",
       "      <th>SNR</th>\n",
       "      <th>concurrency</th>\n",
       "    </tr>\n",
       "  </thead>\n",
       "  <tbody>\n",
       "    <tr>\n",
       "      <th>0</th>\n",
       "      <td>30</td>\n",
       "      <td>0.93</td>\n",
       "    </tr>\n",
       "    <tr>\n",
       "      <th>1</th>\n",
       "      <td>25</td>\n",
       "      <td>0.92</td>\n",
       "    </tr>\n",
       "    <tr>\n",
       "      <th>2</th>\n",
       "      <td>20</td>\n",
       "      <td>0.92</td>\n",
       "    </tr>\n",
       "    <tr>\n",
       "      <th>3</th>\n",
       "      <td>15</td>\n",
       "      <td>0.91</td>\n",
       "    </tr>\n",
       "    <tr>\n",
       "      <th>4</th>\n",
       "      <td>10</td>\n",
       "      <td>0.87</td>\n",
       "    </tr>\n",
       "    <tr>\n",
       "      <th>5</th>\n",
       "      <td>5</td>\n",
       "      <td>0.57</td>\n",
       "    </tr>\n",
       "  </tbody>\n",
       "</table>\n",
       "</div>"
      ],
      "text/plain": [
       "   SNR  concurrency\n",
       "0   30         0.93\n",
       "1   25         0.92\n",
       "2   20         0.92\n",
       "3   15         0.91\n",
       "4   10         0.87\n",
       "5    5         0.57"
      ]
     },
     "execution_count": 7,
     "metadata": {},
     "output_type": "execute_result"
    }
   ],
   "source": [
    "result_df"
   ]
  }
 ],
 "metadata": {
  "kernelspec": {
   "display_name": "Python 3",
   "language": "python",
   "name": "python3"
  },
  "language_info": {
   "codemirror_mode": {
    "name": "ipython",
    "version": 3
   },
   "file_extension": ".py",
   "mimetype": "text/x-python",
   "name": "python",
   "nbconvert_exporter": "python",
   "pygments_lexer": "ipython3",
   "version": "3.5.1"
  }
 },
 "nbformat": 4,
 "nbformat_minor": 0
}
