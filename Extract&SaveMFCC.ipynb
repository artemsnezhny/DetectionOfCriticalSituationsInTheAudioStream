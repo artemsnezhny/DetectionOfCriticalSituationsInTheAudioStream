{
 "cells": [
  {
   "cell_type": "markdown",
   "metadata": {},
   "source": [
    "### Extract and Save MFCC coefficients from the initial data"
   ]
  },
  {
   "cell_type": "markdown",
   "metadata": {},
   "source": [
    "Dataset url - http://mivia.unisa.it/datasets/audio-analysis/mivia-audio-events/"
   ]
  },
  {
   "cell_type": "code",
   "execution_count": null,
   "metadata": {
    "collapsed": false
   },
   "outputs": [],
   "source": [
    "from os import listdir\n",
    "from os.path import isfile, join\n",
    "from essentia.standard import *\n",
    "from essentia import *\n",
    "import numpy as np\n",
    "\n",
    "sRate = 32000\n",
    "frameSize = 1024\n",
    "hopSize = frameSize / 2\n",
    "\n",
    "windowing = Windowing(type = 'hann')\n",
    "mfcc = MFCC(inputSize = frameSize, highFrequencyBound = 16000, numberCoefficients = 25, sampleRate = sRate)\n",
    "spectrum = Spectrum(size = frameSize)\n",
    "\n",
    "def loadFromFile(filename):\n",
    "    loader = essentia.standard.MonoLoader(filename=filename, sampleRate=sRate)\n",
    "    audio = loader()\n",
    "    return audio\n",
    "\n",
    "def extractAndSave(dirname, count, snrNum, savePath):\n",
    "    for soundNum in range(1, count + 1):\n",
    "        audio = loadFromFile(\"{0}{1}_{2}.wav\".format(dirname+\"sounds/\", str(\"%05d\" % (soundNum)), str(snrNum)))\n",
    "            \n",
    "        framesCoeffs = []\n",
    "        for fstart in range(0, len(audio) - frameSize, hopSize):\n",
    "            frame = audio[fstart : fstart + frameSize]\n",
    "            sp = spectrum(windowing(frame))\n",
    "            mfcc_bands, mfcc_coeffs = mfcc(sp)\n",
    "            framesCoeffs.append(mfcc_coeffs)\n",
    "            \n",
    "        np.savetxt(savePath + \"{0}_{1}.txt\".format(str(\"%05d\" % (soundNum)), str(snrNum)), \n",
    "                       np.asanyarray(framesCoeffs), fmt='%f')"
   ]
  },
  {
   "cell_type": "code",
   "execution_count": null,
   "metadata": {
    "collapsed": true
   },
   "outputs": [],
   "source": [
    "savePath = \"./MFCC/training/\"\n",
    "extractAndSave(\"/media/sf_MIVIA_DB4_dist/training/\", 66, 6, savePath)"
   ]
  },
  {
   "cell_type": "code",
   "execution_count": null,
   "metadata": {
    "collapsed": false
   },
   "outputs": [],
   "source": [
    "savePath = \"./MFCC/testing/\"\n",
    "extractAndSave(\"/media/sf_MIVIA_DB4_dist/testing/\", 29, 6, savePath)"
   ]
  },
  {
   "cell_type": "code",
   "execution_count": null,
   "metadata": {
    "collapsed": true
   },
   "outputs": [],
   "source": []
  }
 ],
 "metadata": {
  "kernelspec": {
   "display_name": "Python 2",
   "language": "python",
   "name": "python2"
  },
  "language_info": {
   "codemirror_mode": {
    "name": "ipython",
    "version": 2
   },
   "file_extension": ".py",
   "mimetype": "text/x-python",
   "name": "python",
   "nbconvert_exporter": "python",
   "pygments_lexer": "ipython2",
   "version": "2.7.6"
  }
 },
 "nbformat": 4,
 "nbformat_minor": 0
}
